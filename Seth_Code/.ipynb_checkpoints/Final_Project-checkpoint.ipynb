{
 "cells": [
  {
   "cell_type": "code",
   "execution_count": 36,
   "metadata": {},
   "outputs": [
    {
     "ename": "LoadError",
     "evalue": "\u001b[91mMethodError: no method matching heatmap(::UnitRange{Int64}, ::UnitRange{Int64}, ::Array{Float64,2}; aspect_ratio=1)\u001b[39m",
     "output_type": "error",
     "traceback": [
      "\u001b[91mMethodError: no method matching heatmap(::UnitRange{Int64}, ::UnitRange{Int64}, ::Array{Float64,2}; aspect_ratio=1)\u001b[39m",
      "",
      "Stacktrace:",
      " [1] \u001b[1minclude_string\u001b[22m\u001b[22m\u001b[1m(\u001b[22m\u001b[22m::String, ::String\u001b[1m)\u001b[22m\u001b[22m at \u001b[1m./loading.jl:515\u001b[22m\u001b[22m"
     ]
    }
   ],
   "source": [
    "using Plots\n",
    "plotlyjs()\n",
    "S = 1:289\n",
    "Sp = 1:289\n",
    "z1 = zeros(289,289)\n",
    "for i = 1:length(data[1])\n",
    "    s = data[1][i]\n",
    "    sp = data[4][i]\n",
    "    z1[s,sp] = z1[s,sp] + 1\n",
    "end\n",
    "heatmap(S,Sp,z1,aspect_ratio=1)\n",
    "plot!(title=\"S-Sp Occurrences\",label=[\"Line 1\" \"Line 2\"])\n",
    "png(\"S-Sp Occurrences\")"
   ]
  },
  {
   "cell_type": "code",
   "execution_count": 72,
   "metadata": {
    "collapsed": true
   },
   "outputs": [],
   "source": [
    "A = 1:63\n",
    "S = 1:289\n",
    "z2 = zeros(289,63)\n",
    "for i = 1:length(data[1])\n",
    "    s = data[1][i]\n",
    "    a = data[2][i]\n",
    "    z2[s,a] = z2[s,a] + 1\n",
    "end\n",
    "x = heatmap(A,S,z2,aspect_ratio=1)\n",
    "plot!(title=\"State-Action Occurrences\",label=[\"Line 1\" \"Line 2\"])\n",
    "png(\"State-Action Occurrences\")"
   ]
  },
  {
   "cell_type": "code",
   "execution_count": 71,
   "metadata": {
    "collapsed": true
   },
   "outputs": [],
   "source": [
    "A = 1:63\n",
    "S = 1:288\n",
    "z3 = zeros(288,63)\n",
    "for i = 1:length(data[1])\n",
    "    s = data[1][i]\n",
    "    a = data[2][i]\n",
    "    z3[s,a] = z3[s,a] + data[3][i]\n",
    "end\n",
    "x = heatmap(A,S,z3,aspect_ratio=1)\n",
    "plot!(title=\"State-Action Total Reward\",label=[\"Line 1\" \"Line 2\"])\n",
    "png(\"State-Action Total Reward\")"
   ]
  },
  {
   "cell_type": "code",
   "execution_count": 12,
   "metadata": {},
   "outputs": [
    {
     "ename": "LoadError",
     "evalue": "LoadError: \u001b[91mInterruptException:\u001b[39m\nwhile loading /Users/scharles/Documents/Classes/AA 228/Final_Project/AA228_Final_Project/Seth_Code/Final_Project.jl, in expression starting on line 277",
     "output_type": "error",
     "traceback": [
      "LoadError: \u001b[91mInterruptException:\u001b[39m\nwhile loading /Users/scharles/Documents/Classes/AA 228/Final_Project/AA228_Final_Project/Seth_Code/Final_Project.jl, in expression starting on line 277",
      "",
      "Stacktrace:",
      " [1] \u001b[1mmacro expansion\u001b[22m\u001b[22m at \u001b[1m./multidimensional.jl:442\u001b[22m\u001b[22m [inlined]",
      " [2] \u001b[1m_getindex\u001b[22m\u001b[22m at \u001b[1m./multidimensional.jl:438\u001b[22m\u001b[22m [inlined]",
      " [3] \u001b[1mgetindex\u001b[22m\u001b[22m\u001b[1m(\u001b[22m\u001b[22m::Array{Float64,3}, ::Colon, ::Int64, ::Int64\u001b[1m)\u001b[22m\u001b[22m at \u001b[1m./abstractarray.jl:882\u001b[22m\u001b[22m",
      " [4] \u001b[1mQLearning\u001b[22m\u001b[22m\u001b[1m(\u001b[22m\u001b[22m\u001b[1m)\u001b[22m\u001b[22m at \u001b[1m/Users/scharles/Documents/Classes/AA 228/Final_Project/AA228_Final_Project/Seth_Code/Final_Project.jl:81\u001b[22m\u001b[22m",
      " [5] \u001b[1mcomputePolicy\u001b[22m\u001b[22m\u001b[1m(\u001b[22m\u001b[22m\u001b[1m)\u001b[22m\u001b[22m at \u001b[1m/Users/scharles/Documents/Classes/AA 228/Final_Project/AA228_Final_Project/Seth_Code/Final_Project.jl:29\u001b[22m\u001b[22m",
      " [6] \u001b[1minclude_from_node1\u001b[22m\u001b[22m\u001b[1m(\u001b[22m\u001b[22m::String\u001b[1m)\u001b[22m\u001b[22m at \u001b[1m./loading.jl:569\u001b[22m\u001b[22m",
      " [7] \u001b[1minclude\u001b[22m\u001b[22m\u001b[1m(\u001b[22m\u001b[22m::String\u001b[1m)\u001b[22m\u001b[22m at \u001b[1m./sysimg.jl:14\u001b[22m\u001b[22m",
      " [8] \u001b[1minclude_string\u001b[22m\u001b[22m\u001b[1m(\u001b[22m\u001b[22m::String, ::String\u001b[1m)\u001b[22m\u001b[22m at \u001b[1m./loading.jl:515\u001b[22m\u001b[22m"
     ]
    }
   ],
   "source": [
    "include(\"Final_Project.jl\")"
   ]
  },
  {
   "cell_type": "code",
   "execution_count": 30,
   "metadata": {},
   "outputs": [
    {
     "data": {
      "text/plain": [
       "697819-element Array{Int64,1}:\n",
       "  0\n",
       "  0\n",
       "  0\n",
       "  0\n",
       "  0\n",
       "  0\n",
       "  0\n",
       "  0\n",
       "  0\n",
       "  0\n",
       "  0\n",
       "  0\n",
       "  0\n",
       "  ⋮\n",
       " -2\n",
       "  0\n",
       "  0\n",
       "  0\n",
       "  0\n",
       "  0\n",
       "  0\n",
       "  0\n",
       "  0\n",
       "  0\n",
       "  0\n",
       "  0"
      ]
     },
     "execution_count": 30,
     "metadata": {},
     "output_type": "execute_result"
    }
   ],
   "source": [
    "data[:,3]"
   ]
  },
  {
   "cell_type": "code",
   "execution_count": null,
   "metadata": {
    "collapsed": true
   },
   "outputs": [],
   "source": []
  }
 ],
 "metadata": {
  "kernelspec": {
   "display_name": "Julia 0.6.0",
   "language": "julia",
   "name": "julia-0.6"
  },
  "language_info": {
   "file_extension": ".jl",
   "mimetype": "application/julia",
   "name": "julia",
   "version": "0.6.0"
  }
 },
 "nbformat": 4,
 "nbformat_minor": 2
}
